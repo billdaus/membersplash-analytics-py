{
 "cells": [
  {
   "cell_type": "code",
   "execution_count": 25,
   "id": "7634f288-fe49-456e-9834-54d5f1b2488e",
   "metadata": {},
   "outputs": [
    {
     "data": {
      "text/html": [
       "<div>\n",
       "<style scoped>\n",
       "    .dataframe tbody tr th:only-of-type {\n",
       "        vertical-align: middle;\n",
       "    }\n",
       "\n",
       "    .dataframe tbody tr th {\n",
       "        vertical-align: top;\n",
       "    }\n",
       "\n",
       "    .dataframe thead th {\n",
       "        text-align: right;\n",
       "    }\n",
       "</style>\n",
       "<table border=\"1\" class=\"dataframe\">\n",
       "  <thead>\n",
       "    <tr style=\"text-align: right;\">\n",
       "      <th></th>\n",
       "      <th>checkin_time</th>\n",
       "      <th>acct_id</th>\n",
       "      <th>account_type</th>\n",
       "      <th>name</th>\n",
       "      <th>member_type</th>\n",
       "      <th>type</th>\n",
       "      <th>num_credits</th>\n",
       "    </tr>\n",
       "  </thead>\n",
       "  <tbody>\n",
       "    <tr>\n",
       "      <th>0</th>\n",
       "      <td>2024-09-20 08:45:24</td>\n",
       "      <td>10318</td>\n",
       "      <td>Active Summer</td>\n",
       "      <td>Bill Berlin</td>\n",
       "      <td>Adult</td>\n",
       "      <td>member</td>\n",
       "      <td>0</td>\n",
       "    </tr>\n",
       "    <tr>\n",
       "      <th>1</th>\n",
       "      <td>2024-09-20 08:39:09</td>\n",
       "      <td>11009</td>\n",
       "      <td>Active Summer</td>\n",
       "      <td>Holly Yoshinari</td>\n",
       "      <td>Adult</td>\n",
       "      <td>member</td>\n",
       "      <td>0</td>\n",
       "    </tr>\n",
       "    <tr>\n",
       "      <th>2</th>\n",
       "      <td>2024-09-20 08:38:18</td>\n",
       "      <td>10077</td>\n",
       "      <td>Active Summer</td>\n",
       "      <td>Mary Bohan</td>\n",
       "      <td>Adult</td>\n",
       "      <td>member</td>\n",
       "      <td>0</td>\n",
       "    </tr>\n",
       "    <tr>\n",
       "      <th>3</th>\n",
       "      <td>2024-09-20 08:19:08</td>\n",
       "      <td>10396</td>\n",
       "      <td>Active Summer</td>\n",
       "      <td>Monique Hanis</td>\n",
       "      <td>Adult</td>\n",
       "      <td>member</td>\n",
       "      <td>0</td>\n",
       "    </tr>\n",
       "    <tr>\n",
       "      <th>4</th>\n",
       "      <td>2024-09-20 08:11:37</td>\n",
       "      <td>10206</td>\n",
       "      <td>Active Summer</td>\n",
       "      <td>Mark Cummings</td>\n",
       "      <td>Adult</td>\n",
       "      <td>member</td>\n",
       "      <td>0</td>\n",
       "    </tr>\n",
       "  </tbody>\n",
       "</table>\n",
       "</div>"
      ],
      "text/plain": [
       "          checkin_time  acct_id   account_type             name member_type  \\\n",
       "0  2024-09-20 08:45:24    10318  Active Summer      Bill Berlin       Adult   \n",
       "1  2024-09-20 08:39:09    11009  Active Summer  Holly Yoshinari       Adult   \n",
       "2  2024-09-20 08:38:18    10077  Active Summer       Mary Bohan       Adult   \n",
       "3  2024-09-20 08:19:08    10396  Active Summer    Monique Hanis       Adult   \n",
       "4  2024-09-20 08:11:37    10206  Active Summer    Mark Cummings       Adult   \n",
       "\n",
       "     type  num_credits  \n",
       "0  member            0  \n",
       "1  member            0  \n",
       "2  member            0  \n",
       "3  member            0  \n",
       "4  member            0  "
      ]
     },
     "execution_count": 25,
     "metadata": {},
     "output_type": "execute_result"
    }
   ],
   "source": [
    "import pandas as pd\n",
    "# Load member information\n",
    "all_accounts_df = pd.read_csv('~/Documents/pyoverlee/ms_exports/accounts-2024-09-26.csv')\n",
    "# Load visit data\n",
    "\n",
    "visits_df = pd.read_csv('~/Documents/pyoverlee/ms_exports/2024-visits-2024-09-20.csv')\n",
    "# Replace spaces with underscores and convert to lower case\n",
    "all_accounts_df.columns = all_accounts_df.columns.str.replace(' ', '_', regex=False).str.lower()\n",
    "# Standardize 'acct_type' and 'payment_status' values\n",
    "all_accounts_df['acct_type'] = all_accounts_df['acct_type'].str.lower().str.strip()\n",
    "all_accounts_df['payment_status'] = all_accounts_df['payment_status'].str.lower().str.strip()\n",
    "all_accounts_df.rename(columns={'acct_#': 'acct_id'}, inplace=True)\n",
    "# Replace spaces with underscores and convert to lower case\n",
    "visits_df.columns = visits_df.columns.str.replace(' ', '_', regex=False).str.lower()\n",
    "visits_df.head()\n"
   ]
  },
  {
   "cell_type": "code",
   "execution_count": 26,
   "id": "ee8e4447-b347-433f-9555-f1bc7262ef39",
   "metadata": {},
   "outputs": [
    {
     "name": "stdout",
     "output_type": "stream",
     "text": [
      "2540  Total Number of Accounts in Membersplash\n",
      "44425  Total Number of Visits in Membersplash\n"
     ]
    }
   ],
   "source": [
    "num_rows = len(all_accounts_df)\n",
    "print(num_rows, \" Total Number of Accounts in Membersplash\")\n",
    "num_rows = len(visits_df)\n",
    "print(num_rows, \" Total Number of Visits in Membersplash\")"
   ]
  },
  {
   "cell_type": "code",
   "execution_count": 27,
   "id": "e2892f38-4a41-4769-83d5-e28493fa0841",
   "metadata": {},
   "outputs": [
    {
     "name": "stdout",
     "output_type": "stream",
     "text": [
      "Unique account types:\n",
      "['active summer' 'gold pass' 'inactive' 'waitlist' 'offered membership'\n",
      " 'august pass (waitlist)' 'test admin' 'august pass (non member)'\n",
      " 'non-members (august pass)' 'august pass (member)']\n",
      "Unique account types in Visits:\n",
      "['Active Summer' 'Gold Pass' 'August Pass (Waitlist)'\n",
      " 'August Pass (Non Member)' 'Offered Membership' 'August Pass (Member)'\n",
      " 'Waitlist' 'Honorary Pass']\n"
     ]
    }
   ],
   "source": [
    "# Get unique account types\n",
    "unique_account_types = all_accounts_df['acct_type'].unique()\n",
    "print(\"Unique account types:\")\n",
    "print(unique_account_types)\n",
    "unique_account_types_vists = visits_df['account_type'].unique()\n",
    "print(\"Unique account types in Visits:\")\n",
    "print(unique_account_types_vists)"
   ]
  },
  {
   "cell_type": "code",
   "execution_count": 28,
   "id": "94195b3a",
   "metadata": {},
   "outputs": [
    {
     "name": "stdout",
     "output_type": "stream",
     "text": [
      "Total number of members for each account type:\n",
      "acct_type\n",
      "waitlist                     1319\n",
      "active summer                 851\n",
      "gold pass                     168\n",
      "august pass (waitlist)         82\n",
      "inactive                       64\n",
      "august pass (non member)       40\n",
      "non-members (august pass)      11\n",
      "test admin                      3\n",
      "offered membership              1\n",
      "august pass (member)            1\n",
      "Name: count, dtype: int64\n"
     ]
    }
   ],
   "source": [
    "# Calculate the counts of each account type\n",
    "account_type_counts = all_accounts_df['acct_type'].value_counts()\n",
    "print(\"Total number of members for each account type:\")\n",
    "print(account_type_counts)"
   ]
  },
  {
   "cell_type": "markdown",
   "id": "c64a477d",
   "metadata": {},
   "source": [
    "## Account Type Definitions (Large update each Fall and February - whenever people pay)\n",
    "\n",
    "- **Active Summer**: Eligible for Summer Membership - Includes Unpaid accounts\n",
    "- **Gold Pass**: Limited Use Membership\n",
    "- **Waitlist**: Paid to be on the Waitlist (Includes people who declined or didn't respond for the second time in 2024)\n",
    "- **Offered Membership**: \n",
    "- **Honorary Pass**: \n",
    "- **Inactive**: \n",
    "- **Test Admin**: \n",
    "\n",
    "### August Pass Types\n",
    "\n",
    "- **August Pass (Waitlist)**: People on the Waitlist who have purchased an August Pass\n",
    "- **August Pass (Non Member)**: People who purchased an August Pass who are neither on the Waitlist nor a Member\n",
    "- **August Pass (Member)**: People who are Members who have purchased an August Pass\n",
    "- **Non-Members (August Pass)**: People who have previously purchased an August Pass"
   ]
  },
  {
   "cell_type": "code",
   "execution_count": 29,
   "id": "fa90ba71-d359-418a-bf27-46ef6a4d188d",
   "metadata": {},
   "outputs": [
    {
     "name": "stdout",
     "output_type": "stream",
     "text": [
      "0  Total August Pass Accounts\n"
     ]
    }
   ],
   "source": [
    "# Define the target account types\n",
    "august_target_account_types = ['August Pass (Waitlist)', 'August Pass (Member)','August Pass (Non Member)']\n",
    "# Filter members based on the target account types\n",
    "filtered_members_df = all_accounts_df[all_accounts_df['acct_type'].isin(august_target_account_types)]\n",
    "# Identify unique account #s\n",
    "all_members = set(filtered_members_df['acct_id'].unique())\n",
    "print(len(all_members), \" Total August Pass Accounts\")\n",
    "\n",
    "#TODO: Filter out 43 people Unpaid \n"
   ]
  },
  {
   "cell_type": "code",
   "execution_count": 30,
   "id": "8960e089-d61c-49ac-aeae-aeb68b75aa04",
   "metadata": {},
   "outputs": [],
   "source": [
    "# Get unique member IDs who visited\n",
    "visiting_member_ids = visits_df['acct_id'].unique()\n",
    "# Create a DataFrame indicating whether each member_id has visited\n",
    "visited_df = pd.DataFrame({'acct_id': visiting_member_ids})\n",
    "visited_df['visited'] = True\n",
    "\n",
    "# Merge members_df with visited_df\n",
    "members_visited_df = all_accounts_df.merge(visited_df, on='acct_id', how='left')\n",
    "\n",
    "# Fill NaN values in 'visited' column with False (members who did not visit)\n",
    "members_visited_df['visited'] = members_visited_df['visited'].fillna(False)"
   ]
  },
  {
   "cell_type": "code",
   "execution_count": 32,
   "id": "0762ebab",
   "metadata": {},
   "outputs": [
    {
     "name": "stdout",
     "output_type": "stream",
     "text": [
      "visited                  acct_type payment_status  total_accounts  visited  \\\n",
      "0                    active summer           paid             808      783   \n",
      "1                    active summer         unpaid              43        3   \n",
      "2             august pass (member)           paid               1        1   \n",
      "3         august pass (non member)           paid              40       39   \n",
      "4           august pass (waitlist)           paid              82       79   \n",
      "5                        gold pass           paid             168      119   \n",
      "6                         inactive           paid              64        0   \n",
      "7        non-members (august pass)           paid              11        0   \n",
      "8               offered membership         unpaid               1        1   \n",
      "9                       test admin           paid               2        0   \n",
      "10                      test admin         unpaid               1        0   \n",
      "11                        waitlist           paid            1319        1   \n",
      "\n",
      "visited  did_not_visit  \n",
      "0                   25  \n",
      "1                   40  \n",
      "2                    0  \n",
      "3                    1  \n",
      "4                    3  \n",
      "5                   49  \n",
      "6                   64  \n",
      "7                   11  \n",
      "8                    0  \n",
      "9                    2  \n",
      "10                   1  \n",
      "11                1318  \n"
     ]
    }
   ],
   "source": [
    "# Create a crosstab of 'acct_type' and 'visited'\n",
    "#visit_crosstab = pd.crosstab(members_visited_df['acct_type'], members_visited_df['visited'])\n",
    "\n",
    "# Create a crosstab of 'acct_type', 'payment_status', and 'visited'\n",
    "visit_crosstab = pd.crosstab(\n",
    "    [members_visited_df['acct_type'], members_visited_df['payment_status']],  # Rows: acct_type and payment_status\n",
    "    members_visited_df['visited']  # Columns: visited status\n",
    ")\n",
    "\n",
    "# Reset index to turn 'acct_type' and 'payment_status' back into columns\n",
    "visit_crosstab = visit_crosstab.reset_index()\n",
    "\n",
    "# Rename columns for clarity\n",
    "visit_crosstab = visit_crosstab.rename(columns={False: 'did_not_visit', True: 'visited'})\n",
    "\n",
    "# Calculate total members per account type\n",
    "visit_crosstab['total_accounts'] = visit_crosstab['visited'] + visit_crosstab['did_not_visit']\n",
    "\n",
    "# Reorder columns for better readability\n",
    "#visit_crosstab = visit_crosstab[['acct_type', 'total_accounts', 'visited', 'did_not_visit']]\n",
    "# Reorder columns\n",
    "visit_crosstab = visit_crosstab[['acct_type', 'payment_status', 'total_accounts', 'visited', 'did_not_visit']]\n",
    "\n",
    "\n",
    "# Display the result\n",
    "print(visit_crosstab)\n"
   ]
  },
  {
   "cell_type": "code",
   "execution_count": 34,
   "id": "987dcb2a",
   "metadata": {},
   "outputs": [
    {
     "name": "stdout",
     "output_type": "stream",
     "text": [
      "\\Visiting member(s) in account type 'active summer':\n",
      "     acct_id      acct_type                tags date_registered  \\\n",
      "352    10380  active summer                 NaN      2011-05-01   \n",
      "382    10416  active summer  Gold Pass Eligible      2005-05-01   \n",
      "555    10599  active summer  Gold Pass Eligible      2000-05-01   \n",
      "\n",
      "     legacy_acct_#                      user_name first_name  last_name  \\\n",
      "352         3017.0  josh@joshgreenberglawfirm.com       Josh  Greenberg   \n",
      "382         2563.0          kohls_heavner@msn.com      Brett    Heavner   \n",
      "555         2260.0          stephen.marino@me.com    Stephen     Marino   \n",
      "\n",
      "                             email  site_access  ...    zip    cell_phone  \\\n",
      "352  josh@joshgreenberglawfirm.com            1  ...  22207           NaN   \n",
      "382          kohls_heavner@msn.com            1  ...  22207  703-869-7301   \n",
      "555          stephen.marino@me.com            1  ...  22205  202-841-2941   \n",
      "\n",
      "    work_phone    home_phone payment_status checkin_note #_members  \\\n",
      "352        NaN           NaN         unpaid          NaN         4   \n",
      "382        NaN  703-536-4987         unpaid          NaN         2   \n",
      "555        NaN  202-841-2941         unpaid          NaN         4   \n",
      "\n",
      "    authnet_account                                       member_names visited  \n",
      "352             NaN  Josh Greenberg, Jessica Greenberg, Justine Gre...    True  \n",
      "382             NaN             Brett Heavner, Christine Kohls-heavner    True  \n",
      "555             NaN  Stephen Marino, Connor Marino, Camryn Marino, ...    True  \n",
      "\n",
      "[3 rows x 27 columns]\n"
     ]
    }
   ],
   "source": [
    "# Define the target account type\n",
    "target_account_type = 'active summer'  # Replace with the actual account type from your data\n",
    "\n",
    "# Filter members who belong to the target account type and did not visit\n",
    "unpaid_visiting_members = members_visited_df[\n",
    "    (members_visited_df['acct_type'] == target_account_type) &\n",
    "    (members_visited_df['visited'] == True) &\n",
    "    (members_visited_df['payment_status'] == 'unpaid')\n",
    "]\n",
    "\n",
    "# Display the non-visiting member(s)\n",
    "print(f\"\\Visiting member(s) in account type '{target_account_type}':\")\n",
    "print(unpaid_visiting_members)"
   ]
  },
  {
   "cell_type": "code",
   "execution_count": 21,
   "id": "8a97cac4",
   "metadata": {},
   "outputs": [
    {
     "name": "stdout",
     "output_type": "stream",
     "text": [
      "\\Visiting member(s) in account type 'Waitlist':\n",
      "      acct_id acct_type tags date_registered  legacy_acct_#    user_name  \\\n",
      "2263    12412  Waitlist  NaN      2023-04-29            NaN  hooperaj621   \n",
      "\n",
      "     first_name last_name                  email  site_access  ...    zip  \\\n",
      "2263      Aimee    Hooper  hooperaj621@gmail.com            1  ...  22205   \n",
      "\n",
      "      cell_phone work_phone    home_phone payment_status checkin_note  \\\n",
      "2263         NaN        NaN  518-322-2020           paid          NaN   \n",
      "\n",
      "     #_members authnet_account                  member_names visited  \n",
      "2263         2             NaN  Aimee Hooper, Enzio Quartero    True  \n",
      "\n",
      "[1 rows x 27 columns]\n"
     ]
    }
   ],
   "source": [
    "# Define the target account type\n",
    "target_account_type = 'Waitlist'  # Replace with the actual account type from your data\n",
    "\n",
    "# Filter members who belong to the target account type and did not visit\n",
    "waitlist_visiting_members = members_visited_df[\n",
    "    (members_visited_df['acct_type'] == target_account_type) &\n",
    "    (members_visited_df['visited'] == True)\n",
    "]\n",
    "\n",
    "# Display the non-visiting member(s)\n",
    "print(f\"\\Visiting member(s) in account type '{target_account_type}':\")\n",
    "print(waitlist_visiting_members)\n"
   ]
  },
  {
   "cell_type": "code",
   "execution_count": 37,
   "id": "5fc63c42",
   "metadata": {},
   "outputs": [
    {
     "name": "stdout",
     "output_type": "stream",
     "text": [
      "              checkin_time  acct_id   account_type           name member_type  \\\n",
      "19156  2024-07-16 14:16:39    10599  Active Summer  Alison Marino       Adult   \n",
      "\n",
      "         type  num_credits  \n",
      "19156  member            0  \n"
     ]
    }
   ],
   "source": [
    "waitlist_visits = visits_df[\n",
    "    (visits_df['acct_id'] == 10599)\n",
    "]\n",
    "print(waitlist_visits)\n",
    "# August Pass (Waitlist) moved back"
   ]
  }
 ],
 "metadata": {
  "kernelspec": {
   "display_name": "Python 3",
   "language": "python",
   "name": "python3"
  },
  "language_info": {
   "codemirror_mode": {
    "name": "ipython",
    "version": 3
   },
   "file_extension": ".py",
   "mimetype": "text/x-python",
   "name": "python",
   "nbconvert_exporter": "python",
   "pygments_lexer": "ipython3",
   "version": "3.10.8"
  }
 },
 "nbformat": 4,
 "nbformat_minor": 5
}
