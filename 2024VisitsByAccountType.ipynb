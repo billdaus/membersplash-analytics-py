{
 "cells": [
  {
   "cell_type": "code",
   "execution_count": 52,
   "id": "7634f288-fe49-456e-9834-54d5f1b2488e",
   "metadata": {},
   "outputs": [
    {
     "data": {
      "text/html": [
       "<div>\n",
       "<style scoped>\n",
       "    .dataframe tbody tr th:only-of-type {\n",
       "        vertical-align: middle;\n",
       "    }\n",
       "\n",
       "    .dataframe tbody tr th {\n",
       "        vertical-align: top;\n",
       "    }\n",
       "\n",
       "    .dataframe thead th {\n",
       "        text-align: right;\n",
       "    }\n",
       "</style>\n",
       "<table border=\"1\" class=\"dataframe\">\n",
       "  <thead>\n",
       "    <tr style=\"text-align: right;\">\n",
       "      <th></th>\n",
       "      <th>checkin_time</th>\n",
       "      <th>acct_id</th>\n",
       "      <th>account_type</th>\n",
       "      <th>name</th>\n",
       "      <th>member_type</th>\n",
       "      <th>type</th>\n",
       "      <th>num_credits</th>\n",
       "    </tr>\n",
       "  </thead>\n",
       "  <tbody>\n",
       "    <tr>\n",
       "      <th>0</th>\n",
       "      <td>2024-05-25 10:02:18</td>\n",
       "      <td>10727</td>\n",
       "      <td>August Pass (Member)</td>\n",
       "      <td>Evelyn Blackman</td>\n",
       "      <td>Guest Pass</td>\n",
       "      <td>member</td>\n",
       "      <td>4</td>\n",
       "    </tr>\n",
       "    <tr>\n",
       "      <th>1</th>\n",
       "      <td>2024-05-25 10:02:34</td>\n",
       "      <td>10620</td>\n",
       "      <td>Waitlist</td>\n",
       "      <td>Elijah Negron</td>\n",
       "      <td>Child</td>\n",
       "      <td>guest</td>\n",
       "      <td>2</td>\n",
       "    </tr>\n",
       "    <tr>\n",
       "      <th>2</th>\n",
       "      <td>2024-05-25 10:02:49</td>\n",
       "      <td>10543</td>\n",
       "      <td>Offered Membership</td>\n",
       "      <td>Judy Carter</td>\n",
       "      <td>Adult</td>\n",
       "      <td>member</td>\n",
       "      <td>4</td>\n",
       "    </tr>\n",
       "    <tr>\n",
       "      <th>3</th>\n",
       "      <td>2024-05-25 10:02:53</td>\n",
       "      <td>10386</td>\n",
       "      <td>August Pass (Waitlist)</td>\n",
       "      <td>William Spencer</td>\n",
       "      <td>Child</td>\n",
       "      <td>guest</td>\n",
       "      <td>4</td>\n",
       "    </tr>\n",
       "    <tr>\n",
       "      <th>4</th>\n",
       "      <td>2024-05-25 10:04:05</td>\n",
       "      <td>10534</td>\n",
       "      <td>August Pass (Member)</td>\n",
       "      <td>Timothy Klein</td>\n",
       "      <td>Guest Pass</td>\n",
       "      <td>member</td>\n",
       "      <td>5</td>\n",
       "    </tr>\n",
       "  </tbody>\n",
       "</table>\n",
       "</div>"
      ],
      "text/plain": [
       "          checkin_time  acct_id            account_type             name  \\\n",
       "0  2024-05-25 10:02:18    10727    August Pass (Member)  Evelyn Blackman   \n",
       "1  2024-05-25 10:02:34    10620                Waitlist    Elijah Negron   \n",
       "2  2024-05-25 10:02:49    10543      Offered Membership      Judy Carter   \n",
       "3  2024-05-25 10:02:53    10386  August Pass (Waitlist)  William Spencer   \n",
       "4  2024-05-25 10:04:05    10534    August Pass (Member)    Timothy Klein   \n",
       "\n",
       "  member_type    type  num_credits  \n",
       "0  Guest Pass  member            4  \n",
       "1       Child   guest            2  \n",
       "2       Adult  member            4  \n",
       "3       Child   guest            4  \n",
       "4  Guest Pass  member            5  "
      ]
     },
     "execution_count": 52,
     "metadata": {},
     "output_type": "execute_result"
    }
   ],
   "source": [
    "import pandas as pd\n",
    "# Load member information\n",
    "#all_accounts_df = pd.read_csv('~/data/ms_exports/accounts-2024-09-26.csv')\n",
    "all_accounts_df = pd.read_csv('~/data/test/accounts.csv')\n",
    "# Load visit data\n",
    "\n",
    "#visits_df = pd.read_csv('~/data/ms_exports/2024-visits-2024-09-20.csv')\n",
    "visits_df = pd.read_csv('~/data/test/pool_visits.csv')\n",
    "# Replace spaces with underscores and convert to lower case\n",
    "all_accounts_df.columns = all_accounts_df.columns.str.replace(' ', '_', regex=False).str.lower()\n",
    "# Standardize 'acct_type' and 'payment_status' values\n",
    "all_accounts_df['acct_type'] = all_accounts_df['acct_type'].str.lower().str.strip()\n",
    "all_accounts_df['payment_status'] = all_accounts_df['payment_status'].str.lower().str.strip()\n",
    "all_accounts_df.rename(columns={'acct_#': 'acct_id'}, inplace=True)\n",
    "# Replace spaces with underscores and convert to lower case\n",
    "visits_df.columns = visits_df.columns.str.replace(' ', '_', regex=False).str.lower()\n",
    "visits_df.head()\n"
   ]
  },
  {
   "cell_type": "code",
   "execution_count": 53,
   "id": "ee8e4447-b347-433f-9555-f1bc7262ef39",
   "metadata": {},
   "outputs": [
    {
     "name": "stdout",
     "output_type": "stream",
     "text": [
      "800  Total Number of Accounts in Membersplash\n",
      "39770  Total Number of Visits in Membersplash\n"
     ]
    }
   ],
   "source": [
    "num_rows = len(all_accounts_df)\n",
    "print(num_rows, \" Total Number of Accounts in Membersplash\")\n",
    "num_rows = len(visits_df)\n",
    "print(num_rows, \" Total Number of Visits in Membersplash\")"
   ]
  },
  {
   "cell_type": "code",
   "execution_count": 54,
   "id": "e2892f38-4a41-4769-83d5-e28493fa0841",
   "metadata": {},
   "outputs": [
    {
     "name": "stdout",
     "output_type": "stream",
     "text": [
      "Unique account types:\n",
      "['gold pass' 'active summer' 'august pass (waitlist)' 'offered membership'\n",
      " 'honorary pass' 'waitlist' 'august pass (non member)'\n",
      " 'august pass (member)']\n",
      "Unique account types in Visits:\n",
      "['August Pass (Member)' 'Waitlist' 'Offered Membership'\n",
      " 'August Pass (Waitlist)' 'Honorary Pass' 'August Pass (Non Member)'\n",
      " 'Active Summer' 'Gold Pass']\n"
     ]
    }
   ],
   "source": [
    "# Get unique account types\n",
    "unique_account_types = all_accounts_df['acct_type'].unique()\n",
    "print(\"Unique account types:\")\n",
    "print(unique_account_types)\n",
    "unique_account_types_vists = visits_df['account_type'].unique()\n",
    "print(\"Unique account types in Visits:\")\n",
    "print(unique_account_types_vists)"
   ]
  },
  {
   "cell_type": "code",
   "execution_count": 55,
   "id": "94195b3a",
   "metadata": {},
   "outputs": [
    {
     "name": "stdout",
     "output_type": "stream",
     "text": [
      "Total number of members for each account type:\n",
      "acct_type\n",
      "gold pass                   118\n",
      "active summer               112\n",
      "offered membership          105\n",
      "waitlist                    100\n",
      "honorary pass                98\n",
      "august pass (waitlist)       91\n",
      "august pass (non member)     90\n",
      "august pass (member)         86\n",
      "Name: count, dtype: int64\n"
     ]
    }
   ],
   "source": [
    "# Calculate the counts of each account type\n",
    "account_type_counts = all_accounts_df['acct_type'].value_counts()\n",
    "print(\"Total number of members for each account type:\")\n",
    "print(account_type_counts)"
   ]
  },
  {
   "cell_type": "markdown",
   "id": "c64a477d",
   "metadata": {},
   "source": [
    "## Account Type Definitions \n",
    "### (Large update each Fall and February - whenever people pay)\n",
    "\n",
    "- **Active Summer**: Eligible for Summer Membership - Includes Paid and Unpaid accounts\n",
    "- **Gold Pass**: Limited Use Membership\n",
    "- **Waitlist**: Paid to be on the Waitlist (Includes people who declined or didn't respond for the second time in 2024)\n",
    "- **Offered Membership**: \n",
    "- **Honorary Pass**: \n",
    "- **Inactive**: \n",
    "- **Test Admin**: \n",
    "\n",
    "### August Pass Types\n",
    "\n",
    "- **August Pass (Waitlist)**: People on the Waitlist who have purchased an August Pass\n",
    "- **August Pass (Non Member)**: People who purchased an August Pass who are neither on the Waitlist nor a Member\n",
    "- **August Pass (Member)**: People who are Members who have purchased an August Pass\n",
    "- **Non-Members (August Pass)**: People who have previously purchased an August Pass"
   ]
  },
  {
   "cell_type": "code",
   "execution_count": 56,
   "id": "fa90ba71-d359-418a-bf27-46ef6a4d188d",
   "metadata": {},
   "outputs": [
    {
     "name": "stdout",
     "output_type": "stream",
     "text": [
      "0  Total August Pass Accounts\n"
     ]
    }
   ],
   "source": [
    "# Define the target account types\n",
    "august_target_account_types = ['August Pass (Waitlist)', 'August Pass (Member)','August Pass (Non Member)']\n",
    "# Filter members based on the target account types\n",
    "filtered_members_df = all_accounts_df[all_accounts_df['acct_type'].isin(august_target_account_types)]\n",
    "# Identify unique account #s\n",
    "all_members = set(filtered_members_df['acct_id'].unique())\n",
    "print(len(all_members), \" Total August Pass Accounts\")\n",
    "\n",
    "#TODO: Filter out 43 people Unpaid \n"
   ]
  },
  {
   "cell_type": "code",
   "execution_count": 57,
   "id": "8960e089-d61c-49ac-aeae-aeb68b75aa04",
   "metadata": {},
   "outputs": [
    {
     "name": "stdout",
     "output_type": "stream",
     "text": [
      "<bound method NDFrame.head of      acct_id                 acct_type  \\\n",
      "0      10000                 gold pass   \n",
      "1      10001             active summer   \n",
      "2      10002    august pass (waitlist)   \n",
      "3      10003        offered membership   \n",
      "4      10004    august pass (waitlist)   \n",
      "..       ...                       ...   \n",
      "795    10795    august pass (waitlist)   \n",
      "796    10796  august pass (non member)   \n",
      "797    10797                 gold pass   \n",
      "798    10798  august pass (non member)   \n",
      "799    10799    august pass (waitlist)   \n",
      "\n",
      "                                        tags date_registered  legacy_acct_#  \\\n",
      "0                        Extended Membership      2024-03-14            NaN   \n",
      "1                        Extended Membership      2024-01-22         5218.0   \n",
      "2                        Extended Membership      2023-11-30            NaN   \n",
      "3    Gold Pass Eligible, Extended Membership      2023-12-24            NaN   \n",
      "4                                        NaN      2024-06-26            NaN   \n",
      "..                                       ...             ...            ...   \n",
      "795                                      NaN      2023-11-01            NaN   \n",
      "796                       Gold Pass Eligible      2024-01-20         6616.0   \n",
      "797                      Extended Membership      2024-10-15            NaN   \n",
      "798  Extended Membership, Gold Pass Eligible      2023-11-29         3337.0   \n",
      "799                      Extended Membership      2024-06-25         5922.0   \n",
      "\n",
      "     user_name first_name last_name                  email  site_access  ...  \\\n",
      "0       ekelly         Ed     Kelly     ekelly@example.com            1  ...   \n",
      "1       bmoore     Brenda     Moore     bmoore@example.com            1  ...   \n",
      "2     gmorales     George   Morales   gmorales@example.com            1  ...   \n",
      "3      owebber     Olivia    Webber    owebber@example.com            1  ...   \n",
      "4        byuen    Bradley      Yuen      byuen@example.com            1  ...   \n",
      "..         ...        ...       ...                    ...          ...  ...   \n",
      "795  klataille     Krista  Lataille  klataille@example.com            1  ...   \n",
      "796   ehenrich       Edna   Henrich   ehenrich@example.com            1  ...   \n",
      "797    kbailey      Karen    Bailey    kbailey@example.com            1  ...   \n",
      "798     amoore        Amy     Moore     amoore@example.com            1  ...   \n",
      "799   hwoodard      Helen   Woodard   hwoodard@example.com            1  ...   \n",
      "\n",
      "         cell_phone      work_phone      home_phone payment_status  \\\n",
      "0    (719) 942-3275  (465) 162-9198  (807) 698-4432           paid   \n",
      "1    (543) 245-5450  (599) 456-5747  (289) 195-8009         unpaid   \n",
      "2    (566) 740-4003  (226) 758-9765  (456) 833-7887         unpaid   \n",
      "3    (347) 402-3791  (408) 333-6788  (797) 508-4229         unpaid   \n",
      "4    (650) 166-8718  (812) 920-3872  (604) 734-7198         unpaid   \n",
      "..              ...             ...             ...            ...   \n",
      "795  (502) 601-5957  (970) 841-3801  (696) 406-6841         unpaid   \n",
      "796  (999) 108-1779  (325) 832-8137  (922) 109-9473           paid   \n",
      "797  (326) 935-1624  (370) 814-2588  (301) 138-3588         unpaid   \n",
      "798  (995) 802-9984  (421) 866-2836  (526) 253-8460         unpaid   \n",
      "799  (931) 909-1693  (215) 264-4208  (507) 752-2987         unpaid   \n",
      "\n",
      "     checkin_note #_members   authnet  account  \\\n",
      "0      VIP Member         5       NaN    10000   \n",
      "1             NaN         3       NaN    10001   \n",
      "2             NaN         1  722555.0    10002   \n",
      "3             NaN         2  672130.0    10003   \n",
      "4      VIP Member         2  730494.0    10004   \n",
      "..            ...       ...       ...      ...   \n",
      "795   Requires ID         5  512136.0    10795   \n",
      "796    VIP Member         4  967589.0    10796   \n",
      "797           NaN         6       NaN    10797   \n",
      "798           NaN         5       NaN    10798   \n",
      "799   Requires ID         1  776826.0    10799   \n",
      "\n",
      "                                          member_names visited  \n",
      "0    Robert Ames, Michael Thomas, Muriel Parker, Be...    True  \n",
      "1           Kristi Carlton, Lillie Johnson, John Etkin    True  \n",
      "2                                         Andrew Amick    True  \n",
      "3                      Phyllis Slattery, Jerry Johnson    True  \n",
      "4                        Gloria Porter, Thomas Carlton    True  \n",
      "..                                                 ...     ...  \n",
      "795  Clayton Walker, Herman Brobst, Walter Driver, ...    True  \n",
      "796  Sheila Yoder, Tracy Wayne, Patrick Livingston,...    True  \n",
      "797  George Kassis, Madeline Roberson, Martha Aldan...    True  \n",
      "798  Norman Roudabush, Mary Geiser, Jason Ward, Rob...    True  \n",
      "799                                        Grace Reece    True  \n",
      "\n",
      "[800 rows x 28 columns]>\n"
     ]
    }
   ],
   "source": [
    "# Get unique member IDs who visited\n",
    "visiting_member_ids = visits_df['acct_id'].unique()\n",
    "# Create a DataFrame indicating whether each member_id has visited\n",
    "visited_df = pd.DataFrame({'acct_id': visiting_member_ids})\n",
    "visited_df['visited'] = True\n",
    "\n",
    "# Merge members_df with visited_df\n",
    "members_visited_df = all_accounts_df.merge(visited_df, on='acct_id', how='left')\n",
    "\n",
    "# Fill NaN values in 'visited' column with False (members who did not visit)\n",
    "members_visited_df['visited'] = members_visited_df['visited'].fillna(False)\n",
    "print(members_visited_df.head)"
   ]
  },
  {
   "cell_type": "code",
   "execution_count": 60,
   "id": "0762ebab",
   "metadata": {},
   "outputs": [],
   "source": [
    "# Create a crosstab of 'acct_type' and 'visited'\n",
    "#visit_crosstab = pd.crosstab(members_visited_df['acct_type'], members_visited_df['visited'])\n",
    "\n",
    "# Create a crosstab of 'acct_type', 'payment_status', and 'visited'\n",
    "visit_crosstab = pd.crosstab(\n",
    "    [members_visited_df['acct_type'], members_visited_df['payment_status']],  # Rows: acct_type and payment_status\n",
    "    members_visited_df['visited']  # Columns: visited status\n",
    ")\n",
    "\n",
    "# Reset index to turn 'acct_type' and 'payment_status' back into columns\n",
    "visit_crosstab = visit_crosstab.reset_index()\n",
    "\n",
    "# Rename columns for clarity\n",
    "visit_crosstab = visit_crosstab.rename(columns={False: 'did_not_visit', True: 'visited'})\n",
    "\n",
    "# Ensure both 'visited' and 'did_not_visit' columns exist\n",
    "if 'did_not_visit' not in visit_crosstab.columns:\n",
    "    visit_crosstab['did_not_visit'] = 0\n",
    "\n",
    "if 'visited' not in visit_crosstab.columns:\n",
    "    visit_crosstab['visited'] = 0\n"
   ]
  },
  {
   "cell_type": "code",
   "execution_count": 61,
   "id": "02aa3bd9",
   "metadata": {},
   "outputs": [
    {
     "name": "stdout",
     "output_type": "stream",
     "text": [
      "visited                 acct_type payment_status  total_accounts  visited  \\\n",
      "0                   active summer           paid              55       55   \n",
      "1                   active summer         unpaid              57       57   \n",
      "2            august pass (member)           paid              39       39   \n",
      "3            august pass (member)         unpaid              47       47   \n",
      "4        august pass (non member)           paid              48       48   \n",
      "5        august pass (non member)         unpaid              42       42   \n",
      "6          august pass (waitlist)           paid              44       44   \n",
      "7          august pass (waitlist)         unpaid              47       47   \n",
      "8                       gold pass           paid              64       64   \n",
      "9                       gold pass         unpaid              54       54   \n",
      "10                  honorary pass           paid              49       49   \n",
      "11                  honorary pass         unpaid              49       49   \n",
      "12             offered membership           paid              50       50   \n",
      "13             offered membership         unpaid              55       55   \n",
      "14                       waitlist           paid              60       60   \n",
      "15                       waitlist         unpaid              40       40   \n",
      "\n",
      "visited  did_not_visit  \n",
      "0                    0  \n",
      "1                    0  \n",
      "2                    0  \n",
      "3                    0  \n",
      "4                    0  \n",
      "5                    0  \n",
      "6                    0  \n",
      "7                    0  \n",
      "8                    0  \n",
      "9                    0  \n",
      "10                   0  \n",
      "11                   0  \n",
      "12                   0  \n",
      "13                   0  \n",
      "14                   0  \n",
      "15                   0  \n"
     ]
    }
   ],
   "source": [
    "\n",
    "# Calculate total members per account type\n",
    "visit_crosstab['total_accounts'] = visit_crosstab['visited'] + visit_crosstab['did_not_visit']\n",
    "\n",
    "# Reorder columns for better readability\n",
    "#visit_crosstab = visit_crosstab[['acct_type', 'total_accounts', 'visited', 'did_not_visit']]\n",
    "# Reorder columns\n",
    "visit_crosstab = visit_crosstab[['acct_type', 'payment_status', 'total_accounts', 'visited', 'did_not_visit']]\n",
    "\n",
    "\n",
    "# Display the result\n",
    "print(visit_crosstab)\n"
   ]
  },
  {
   "cell_type": "code",
   "execution_count": 30,
   "id": "987dcb2a",
   "metadata": {},
   "outputs": [
    {
     "name": "stdout",
     "output_type": "stream",
     "text": [
      "\\Visiting member(s) in account type 'active summer':\n",
      "     acct_id      acct_type                tags date_registered  \\\n",
      "352    10380  active summer                 NaN      2011-05-01   \n",
      "382    10416  active summer  Gold Pass Eligible      2005-05-01   \n",
      "555    10599  active summer  Gold Pass Eligible      2000-05-01   \n",
      "\n",
      "     legacy_acct_#                      user_name first_name  last_name  \\\n",
      "352         3017.0  josh@joshgreenberglawfirm.com       Josh  Greenberg   \n",
      "382         2563.0          kohls_heavner@msn.com      Brett    Heavner   \n",
      "555         2260.0          stephen.marino@me.com    Stephen     Marino   \n",
      "\n",
      "                             email  site_access  ...    zip    cell_phone  \\\n",
      "352  josh@joshgreenberglawfirm.com            1  ...  22207           NaN   \n",
      "382          kohls_heavner@msn.com            1  ...  22207  703-869-7301   \n",
      "555          stephen.marino@me.com            1  ...  22205  202-841-2941   \n",
      "\n",
      "    work_phone    home_phone payment_status checkin_note #_members  \\\n",
      "352        NaN           NaN         unpaid          NaN         4   \n",
      "382        NaN  703-536-4987         unpaid          NaN         2   \n",
      "555        NaN  202-841-2941         unpaid          NaN         4   \n",
      "\n",
      "    authnet_account                                       member_names visited  \n",
      "352             NaN  Josh Greenberg, Jessica Greenberg, Justine Gre...    True  \n",
      "382             NaN             Brett Heavner, Christine Kohls-heavner    True  \n",
      "555             NaN  Stephen Marino, Connor Marino, Camryn Marino, ...    True  \n",
      "\n",
      "[3 rows x 27 columns]\n"
     ]
    }
   ],
   "source": [
    "# Define the target account type\n",
    "target_account_type = 'active summer'  # Replace with the actual account type from your data\n",
    "\n",
    "# Filter members who belong to the target account type and did not visit\n",
    "unpaid_visiting_members = members_visited_df[\n",
    "    (members_visited_df['acct_type'] == target_account_type) &\n",
    "    (members_visited_df['visited'] == True) &\n",
    "    (members_visited_df['payment_status'] == 'unpaid')\n",
    "]\n",
    "\n",
    "# Display the non-visiting member(s)\n",
    "print(f\"\\Visiting member(s) in account type '{target_account_type}':\")\n",
    "print(unpaid_visiting_members)"
   ]
  },
  {
   "cell_type": "code",
   "execution_count": 31,
   "id": "8a97cac4",
   "metadata": {},
   "outputs": [
    {
     "name": "stdout",
     "output_type": "stream",
     "text": [
      "\\Visiting member(s) in account type 'Waitlist':\n",
      "Empty DataFrame\n",
      "Columns: [acct_id, acct_type, tags, date_registered, legacy_acct_#, user_name, first_name, last_name, email, site_access, directory, guest_credits, billing_member_email, street_address, street_address_2, city, state, zip, cell_phone, work_phone, home_phone, payment_status, checkin_note, #_members, authnet_account, member_names, visited]\n",
      "Index: []\n",
      "\n",
      "[0 rows x 27 columns]\n"
     ]
    }
   ],
   "source": [
    "# Define the target account type\n",
    "target_account_type = 'Waitlist'  # Replace with the actual account type from your data\n",
    "\n",
    "# Filter members who belong to the target account type and did not visit\n",
    "waitlist_visiting_members = members_visited_df[\n",
    "    (members_visited_df['acct_type'] == target_account_type) &\n",
    "    (members_visited_df['visited'] == True)\n",
    "]\n",
    "\n",
    "# Display the non-visiting member(s)\n",
    "print(f\"\\Visiting member(s) in account type '{target_account_type}':\")\n",
    "print(waitlist_visiting_members)\n"
   ]
  },
  {
   "cell_type": "code",
   "execution_count": 32,
   "id": "5fc63c42",
   "metadata": {},
   "outputs": [
    {
     "name": "stdout",
     "output_type": "stream",
     "text": [
      "              checkin_time  acct_id   account_type           name member_type  \\\n",
      "19156  2024-07-16 14:16:39    10599  Active Summer  Alison Marino       Adult   \n",
      "\n",
      "         type  num_credits  \n",
      "19156  member            0  \n"
     ]
    }
   ],
   "source": [
    "waitlist_visits = visits_df[\n",
    "    (visits_df['acct_id'] == 10599)\n",
    "]\n",
    "print(waitlist_visits)\n",
    "# August Pass (Waitlist) moved back"
   ]
  }
 ],
 "metadata": {
  "kernelspec": {
   "display_name": "Python 3",
   "language": "python",
   "name": "python3"
  },
  "language_info": {
   "codemirror_mode": {
    "name": "ipython",
    "version": 3
   },
   "file_extension": ".py",
   "mimetype": "text/x-python",
   "name": "python",
   "nbconvert_exporter": "python",
   "pygments_lexer": "ipython3",
   "version": "3.10.8"
  }
 },
 "nbformat": 4,
 "nbformat_minor": 5
}
